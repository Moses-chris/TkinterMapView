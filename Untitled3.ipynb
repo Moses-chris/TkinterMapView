{
  "cells": [
    {
      "cell_type": "markdown",
      "metadata": {
        "id": "view-in-github",
        "colab_type": "text"
      },
      "source": [
        "<a href=\"https://colab.research.google.com/github/Moses-chris/TkinterMapView/blob/main/Untitled3.ipynb\" target=\"_parent\"><img src=\"https://colab.research.google.com/assets/colab-badge.svg\" alt=\"Open In Colab\"/></a>"
      ]
    },
    {
      "cell_type": "code",
      "execution_count": 4,
      "metadata": {
        "colab": {
          "base_uri": "https://localhost:8080/"
        },
        "id": "PNxD2Q-4m-J1",
        "outputId": "cce815d5-b91b-4eb1-f8c3-4e2fea1ca904"
      },
      "outputs": [
        {
          "output_type": "stream",
          "name": "stdout",
          "text": [
            "Requirement already satisfied: optuna in /usr/local/lib/python3.10/dist-packages (4.0.0)\n",
            "Requirement already satisfied: alembic>=1.5.0 in /usr/local/lib/python3.10/dist-packages (from optuna) (1.13.3)\n",
            "Requirement already satisfied: colorlog in /usr/local/lib/python3.10/dist-packages (from optuna) (6.8.2)\n",
            "Requirement already satisfied: numpy in /usr/local/lib/python3.10/dist-packages (from optuna) (1.26.4)\n",
            "Requirement already satisfied: packaging>=20.0 in /usr/local/lib/python3.10/dist-packages (from optuna) (24.1)\n",
            "Requirement already satisfied: sqlalchemy>=1.3.0 in /usr/local/lib/python3.10/dist-packages (from optuna) (2.0.35)\n",
            "Requirement already satisfied: tqdm in /usr/local/lib/python3.10/dist-packages (from optuna) (4.66.5)\n",
            "Requirement already satisfied: PyYAML in /usr/local/lib/python3.10/dist-packages (from optuna) (6.0.2)\n",
            "Requirement already satisfied: Mako in /usr/local/lib/python3.10/dist-packages (from alembic>=1.5.0->optuna) (1.3.5)\n",
            "Requirement already satisfied: typing-extensions>=4 in /usr/local/lib/python3.10/dist-packages (from alembic>=1.5.0->optuna) (4.12.2)\n",
            "Requirement already satisfied: greenlet!=0.4.17 in /usr/local/lib/python3.10/dist-packages (from sqlalchemy>=1.3.0->optuna) (3.1.1)\n",
            "Requirement already satisfied: MarkupSafe>=0.9.2 in /usr/local/lib/python3.10/dist-packages (from Mako->alembic>=1.5.0->optuna) (2.1.5)\n"
          ]
        }
      ],
      "source": [
        "pip install optuna\n"
      ]
    },
    {
      "cell_type": "code",
      "execution_count": 5,
      "metadata": {
        "colab": {
          "base_uri": "https://localhost:8080/"
        },
        "id": "QjDFMU1BnuEh",
        "outputId": "bb9c4eb5-f69d-47d8-8446-7c43c3b4ad77"
      },
      "outputs": [
        {
          "output_type": "stream",
          "name": "stdout",
          "text": [
            "TensorFlow version: 2.17.0\n",
            "Loaded 21158 training data points from /content/crush_data.csv\n",
            "Loaded 4801 simulation data points from /content/new_values.csv\n",
            "Number of features: 33\n",
            "Total number of features: 33\n",
            "No existing model found. Training new model.\n"
          ]
        },
        {
          "output_type": "stream",
          "name": "stderr",
          "text": [
            "[I 2024-10-07 17:22:17,015] Using an existing study with name 'crush_game_study' instead of creating a new one.\n"
          ]
        },
        {
          "output_type": "stream",
          "name": "stdout",
          "text": [
            "Resuming study with 1 previous trials.\n",
            "Input shape after preparation: (21128, 1, 33)\n"
          ]
        },
        {
          "output_type": "stream",
          "name": "stderr",
          "text": [
            "/usr/local/lib/python3.10/dist-packages/keras/src/layers/rnn/rnn.py:204: UserWarning: Do not pass an `input_shape`/`input_dim` argument to a layer. When using Sequential models, prefer using an `Input(shape)` object as the first layer in the model instead.\n",
            "  super().__init__(**kwargs)\n"
          ]
        },
        {
          "output_type": "stream",
          "name": "stdout",
          "text": [
            "Model input shape: (None, 1, 33)\n"
          ]
        },
        {
          "output_type": "stream",
          "name": "stderr",
          "text": [
            "[I 2024-10-07 17:29:37,305] Trial 1 finished with value: 157.3404541015625 and parameters: {'lstm_units': 164, 'dropout_1': 0.46146379498565304, 'lstm_units_2': 77, 'dropout_2': 0.08925866013799932, 'dense_units': 39, 'learning_rate': 0.00011906643411683456}. Best is trial 1 with value: 157.3404541015625.\n",
            "/usr/local/lib/python3.10/dist-packages/keras/src/layers/rnn/rnn.py:204: UserWarning: Do not pass an `input_shape`/`input_dim` argument to a layer. When using Sequential models, prefer using an `Input(shape)` object as the first layer in the model instead.\n",
            "  super().__init__(**kwargs)\n"
          ]
        },
        {
          "output_type": "stream",
          "name": "stdout",
          "text": [
            "Input shape after preparation: (21128, 1, 33)\n",
            "Model input shape: (None, 1, 33)\n"
          ]
        },
        {
          "output_type": "stream",
          "name": "stderr",
          "text": [
            "[I 2024-10-07 17:31:52,862] Trial 2 finished with value: 77.1657943725586 and parameters: {'lstm_units': 138, 'dropout_1': 0.49394347721788834, 'lstm_units_2': 113, 'dropout_2': 0.03638753323038951, 'dense_units': 58, 'learning_rate': 0.009517588749356262}. Best is trial 2 with value: 77.1657943725586.\n",
            "/usr/local/lib/python3.10/dist-packages/keras/src/layers/rnn/rnn.py:204: UserWarning: Do not pass an `input_shape`/`input_dim` argument to a layer. When using Sequential models, prefer using an `Input(shape)` object as the first layer in the model instead.\n",
            "  super().__init__(**kwargs)\n"
          ]
        },
        {
          "output_type": "stream",
          "name": "stdout",
          "text": [
            "Input shape after preparation: (21128, 1, 33)\n",
            "Model input shape: (None, 1, 33)\n"
          ]
        },
        {
          "output_type": "stream",
          "name": "stderr",
          "text": [
            "[I 2024-10-07 17:36:42,234] Trial 3 finished with value: 84.6563720703125 and parameters: {'lstm_units': 110, 'dropout_1': 0.228369747595429, 'lstm_units_2': 95, 'dropout_2': 0.47164327312850074, 'dense_units': 59, 'learning_rate': 0.00045840054673234454}. Best is trial 2 with value: 77.1657943725586.\n",
            "/usr/local/lib/python3.10/dist-packages/keras/src/layers/rnn/rnn.py:204: UserWarning: Do not pass an `input_shape`/`input_dim` argument to a layer. When using Sequential models, prefer using an `Input(shape)` object as the first layer in the model instead.\n",
            "  super().__init__(**kwargs)\n"
          ]
        },
        {
          "output_type": "stream",
          "name": "stdout",
          "text": [
            "Input shape after preparation: (21128, 1, 33)\n",
            "Model input shape: (None, 1, 33)\n"
          ]
        },
        {
          "output_type": "stream",
          "name": "stderr",
          "text": [
            "[I 2024-10-07 17:45:37,750] Trial 4 finished with value: 49.88863754272461 and parameters: {'lstm_units': 193, 'dropout_1': 0.4293202111802485, 'lstm_units_2': 78, 'dropout_2': 0.27893665488829844, 'dense_units': 44, 'learning_rate': 0.0007453210736158664}. Best is trial 4 with value: 49.88863754272461.\n",
            "/usr/local/lib/python3.10/dist-packages/keras/src/layers/rnn/rnn.py:204: UserWarning: Do not pass an `input_shape`/`input_dim` argument to a layer. When using Sequential models, prefer using an `Input(shape)` object as the first layer in the model instead.\n",
            "  super().__init__(**kwargs)\n"
          ]
        },
        {
          "output_type": "stream",
          "name": "stdout",
          "text": [
            "Input shape after preparation: (21128, 1, 33)\n",
            "Model input shape: (None, 1, 33)\n"
          ]
        },
        {
          "output_type": "stream",
          "name": "stderr",
          "text": [
            "[I 2024-10-07 17:52:06,252] Trial 5 finished with value: 25.34964370727539 and parameters: {'lstm_units': 239, 'dropout_1': 0.2846655965553792, 'lstm_units_2': 96, 'dropout_2': 0.2681492813994828, 'dense_units': 21, 'learning_rate': 0.005036596950805657}. Best is trial 5 with value: 25.34964370727539.\n",
            "/usr/local/lib/python3.10/dist-packages/keras/src/layers/rnn/rnn.py:204: UserWarning: Do not pass an `input_shape`/`input_dim` argument to a layer. When using Sequential models, prefer using an `Input(shape)` object as the first layer in the model instead.\n",
            "  super().__init__(**kwargs)\n"
          ]
        },
        {
          "output_type": "stream",
          "name": "stdout",
          "text": [
            "Input shape after preparation: (21128, 1, 33)\n",
            "Model input shape: (None, 1, 33)\n"
          ]
        },
        {
          "output_type": "stream",
          "name": "stderr",
          "text": [
            "[I 2024-10-07 17:58:08,962] Trial 6 finished with value: 63.44560623168945 and parameters: {'lstm_units': 101, 'dropout_1': 0.21240860633407022, 'lstm_units_2': 60, 'dropout_2': 0.47010761689232144, 'dense_units': 27, 'learning_rate': 0.0002645487221443208}. Best is trial 5 with value: 25.34964370727539.\n",
            "/usr/local/lib/python3.10/dist-packages/keras/src/layers/rnn/rnn.py:204: UserWarning: Do not pass an `input_shape`/`input_dim` argument to a layer. When using Sequential models, prefer using an `Input(shape)` object as the first layer in the model instead.\n",
            "  super().__init__(**kwargs)\n"
          ]
        },
        {
          "output_type": "stream",
          "name": "stdout",
          "text": [
            "Input shape after preparation: (21128, 1, 33)\n",
            "Model input shape: (None, 1, 33)\n"
          ]
        },
        {
          "output_type": "stream",
          "name": "stderr",
          "text": [
            "[I 2024-10-07 18:00:53,665] Trial 7 finished with value: 50.54106903076172 and parameters: {'lstm_units': 119, 'dropout_1': 0.06032692737300982, 'lstm_units_2': 39, 'dropout_2': 0.4987056550514808, 'dense_units': 44, 'learning_rate': 0.0038748231550560434}. Best is trial 5 with value: 25.34964370727539.\n",
            "/usr/local/lib/python3.10/dist-packages/keras/src/layers/rnn/rnn.py:204: UserWarning: Do not pass an `input_shape`/`input_dim` argument to a layer. When using Sequential models, prefer using an `Input(shape)` object as the first layer in the model instead.\n",
            "  super().__init__(**kwargs)\n"
          ]
        },
        {
          "output_type": "stream",
          "name": "stdout",
          "text": [
            "Input shape after preparation: (21128, 1, 33)\n",
            "Model input shape: (None, 1, 33)\n"
          ]
        },
        {
          "output_type": "stream",
          "name": "stderr",
          "text": [
            "[I 2024-10-07 18:04:11,151] Trial 8 finished with value: 68.54257202148438 and parameters: {'lstm_units': 155, 'dropout_1': 0.09835872721986694, 'lstm_units_2': 112, 'dropout_2': 0.09823347562787299, 'dense_units': 37, 'learning_rate': 0.007231913448705281}. Best is trial 5 with value: 25.34964370727539.\n",
            "/usr/local/lib/python3.10/dist-packages/keras/src/layers/rnn/rnn.py:204: UserWarning: Do not pass an `input_shape`/`input_dim` argument to a layer. When using Sequential models, prefer using an `Input(shape)` object as the first layer in the model instead.\n",
            "  super().__init__(**kwargs)\n"
          ]
        },
        {
          "output_type": "stream",
          "name": "stdout",
          "text": [
            "Input shape after preparation: (21128, 1, 33)\n",
            "Model input shape: (None, 1, 33)\n"
          ]
        },
        {
          "output_type": "stream",
          "name": "stderr",
          "text": [
            "[I 2024-10-07 18:09:28,710] Trial 9 finished with value: 50.01636505126953 and parameters: {'lstm_units': 209, 'dropout_1': 0.19251934243291474, 'lstm_units_2': 82, 'dropout_2': 0.1802226032363599, 'dense_units': 42, 'learning_rate': 0.0028981103657587668}. Best is trial 5 with value: 25.34964370727539.\n"
          ]
        },
        {
          "output_type": "stream",
          "name": "stdout",
          "text": [
            "Input shape after preparation: (21128, 1, 33)\n",
            "Model input shape: (None, 1, 33)\n"
          ]
        },
        {
          "output_type": "stream",
          "name": "stderr",
          "text": [
            "/usr/local/lib/python3.10/dist-packages/keras/src/layers/rnn/rnn.py:204: UserWarning: Do not pass an `input_shape`/`input_dim` argument to a layer. When using Sequential models, prefer using an `Input(shape)` object as the first layer in the model instead.\n",
            "  super().__init__(**kwargs)\n",
            "[I 2024-10-07 18:17:05,811] Trial 10 finished with value: 166.14271545410156 and parameters: {'lstm_units': 188, 'dropout_1': 0.33446276993790214, 'lstm_units_2': 74, 'dropout_2': 0.40496387076039214, 'dense_units': 17, 'learning_rate': 0.00012095054945056194}. Best is trial 5 with value: 25.34964370727539.\n"
          ]
        },
        {
          "output_type": "stream",
          "name": "stdout",
          "text": [
            "Input shape after preparation: (21128, 1, 33)\n",
            "Model input shape: (None, 1, 33)\n"
          ]
        },
        {
          "output_type": "stream",
          "name": "stderr",
          "text": [
            "/usr/local/lib/python3.10/dist-packages/keras/src/layers/rnn/rnn.py:204: UserWarning: Do not pass an `input_shape`/`input_dim` argument to a layer. When using Sequential models, prefer using an `Input(shape)` object as the first layer in the model instead.\n",
            "  super().__init__(**kwargs)\n",
            "[I 2024-10-07 18:22:54,054] Trial 11 finished with value: 45.375038146972656 and parameters: {'lstm_units': 253, 'dropout_1': 0.330885735473796, 'lstm_units_2': 126, 'dropout_2': 0.317584644783206, 'dense_units': 17, 'learning_rate': 0.0017538883059822945}. Best is trial 5 with value: 25.34964370727539.\n"
          ]
        },
        {
          "output_type": "stream",
          "name": "stdout",
          "text": [
            "Input shape after preparation: (21128, 1, 33)\n",
            "Model input shape: (None, 1, 33)\n"
          ]
        },
        {
          "output_type": "stream",
          "name": "stderr",
          "text": [
            "/usr/local/lib/python3.10/dist-packages/keras/src/layers/rnn/rnn.py:204: UserWarning: Do not pass an `input_shape`/`input_dim` argument to a layer. When using Sequential models, prefer using an `Input(shape)` object as the first layer in the model instead.\n",
            "  super().__init__(**kwargs)\n",
            "[I 2024-10-07 18:29:37,530] Trial 12 finished with value: 29.674774169921875 and parameters: {'lstm_units': 256, 'dropout_1': 0.3372375004187343, 'lstm_units_2': 126, 'dropout_2': 0.3014439093020098, 'dense_units': 18, 'learning_rate': 0.0019312806197671355}. Best is trial 5 with value: 25.34964370727539.\n",
            "/usr/local/lib/python3.10/dist-packages/keras/src/layers/rnn/rnn.py:204: UserWarning: Do not pass an `input_shape`/`input_dim` argument to a layer. When using Sequential models, prefer using an `Input(shape)` object as the first layer in the model instead.\n",
            "  super().__init__(**kwargs)\n"
          ]
        },
        {
          "output_type": "stream",
          "name": "stdout",
          "text": [
            "Input shape after preparation: (21128, 1, 33)\n",
            "Model input shape: (None, 1, 33)\n"
          ]
        },
        {
          "output_type": "stream",
          "name": "stderr",
          "text": [
            "[I 2024-10-07 18:35:17,356] Trial 13 finished with value: 30.5670166015625 and parameters: {'lstm_units': 251, 'dropout_1': 0.31959615259754187, 'lstm_units_2': 103, 'dropout_2': 0.2053201567640796, 'dense_units': 26, 'learning_rate': 0.0016564978233666256}. Best is trial 5 with value: 25.34964370727539.\n",
            "/usr/local/lib/python3.10/dist-packages/keras/src/layers/rnn/rnn.py:204: UserWarning: Do not pass an `input_shape`/`input_dim` argument to a layer. When using Sequential models, prefer using an `Input(shape)` object as the first layer in the model instead.\n",
            "  super().__init__(**kwargs)\n"
          ]
        },
        {
          "output_type": "stream",
          "name": "stdout",
          "text": [
            "Input shape after preparation: (21128, 1, 33)\n",
            "Model input shape: (None, 1, 33)\n"
          ]
        },
        {
          "output_type": "stream",
          "name": "stderr",
          "text": [
            "[I 2024-10-07 18:42:06,048] Trial 14 finished with value: 30.857582092285156 and parameters: {'lstm_units': 224, 'dropout_1': 0.3854343194313286, 'lstm_units_2': 127, 'dropout_2': 0.35321396945031946, 'dense_units': 27, 'learning_rate': 0.0041249777728681524}. Best is trial 5 with value: 25.34964370727539.\n",
            "/usr/local/lib/python3.10/dist-packages/keras/src/layers/rnn/rnn.py:204: UserWarning: Do not pass an `input_shape`/`input_dim` argument to a layer. When using Sequential models, prefer using an `Input(shape)` object as the first layer in the model instead.\n",
            "  super().__init__(**kwargs)\n"
          ]
        },
        {
          "output_type": "stream",
          "name": "stdout",
          "text": [
            "Input shape after preparation: (21128, 1, 33)\n",
            "Model input shape: (None, 1, 33)\n"
          ]
        },
        {
          "output_type": "stream",
          "name": "stderr",
          "text": [
            "[I 2024-10-07 18:50:06,943] Trial 15 finished with value: 48.89626693725586 and parameters: {'lstm_units': 229, 'dropout_1': 0.140543648479467, 'lstm_units_2': 96, 'dropout_2': 0.2313079910204825, 'dense_units': 22, 'learning_rate': 0.0014874320689633373}. Best is trial 5 with value: 25.34964370727539.\n",
            "/usr/local/lib/python3.10/dist-packages/keras/src/layers/rnn/rnn.py:204: UserWarning: Do not pass an `input_shape`/`input_dim` argument to a layer. When using Sequential models, prefer using an `Input(shape)` object as the first layer in the model instead.\n",
            "  super().__init__(**kwargs)\n"
          ]
        },
        {
          "output_type": "stream",
          "name": "stdout",
          "text": [
            "Input shape after preparation: (21128, 1, 33)\n",
            "Training new model with best parameters.\n",
            "Model input shape: (None, 1, 33)\n",
            "Final balance: $30459.41\n",
            "Profit/Loss: $30259.41\n",
            "Total bets placed: 1887\n",
            "Overall accuracy: 43.77%\n",
            "Recent accuracy (last 10 predictions): 70.00%\n",
            "Maximum consecutive losses: 44\n",
            "Profit per bet: $16.04\n"
          ]
        }
      ],
      "source": [
        "import numpy as np\n",
        "import pandas as pd\n",
        "from sklearn.model_selection import train_test_split\n",
        "from sklearn.preprocessing import StandardScaler\n",
        "import tensorflow as tf\n",
        "from tensorflow.keras.models import Sequential\n",
        "from tensorflow.keras.layers import LSTM, Dense, Dropout\n",
        "from tensorflow.keras.optimizers import Adam\n",
        "from tensorflow.keras.callbacks import EarlyStopping\n",
        "import optuna\n",
        "import matplotlib.pyplot as plt\n",
        "from collections import deque\n",
        "import os\n",
        "import joblib\n",
        "import csv\n",
        "\n",
        "os.environ['TF_CPP_MIN_LOG_LEVEL'] = '2'  # Suppress TensorFlow logging\n",
        "\n",
        "print(f\"TensorFlow version: {tf.__version__}\")\n",
        "\n",
        "class CSVCrushGameBettingBot:\n",
        "    def __init__(self, train_csv_path, simulation_csv_path, initial_balance=200, max_bet_amount=20, min_bet_amount=10, profit_target=40000, loss_limit=150, confidence_threshold=0.6, min_prediction_value=1.1):\n",
        "        self.train_csv_path = train_csv_path\n",
        "        self.simulation_csv_path = simulation_csv_path\n",
        "        self.initial_balance = initial_balance\n",
        "        self.max_bet_amount = max_bet_amount\n",
        "        self.min_bet_amount = min_bet_amount\n",
        "        self.profit_target = profit_target\n",
        "        self.loss_limit = loss_limit\n",
        "        self.confidence_threshold = confidence_threshold\n",
        "        self.min_prediction_value = min_prediction_value\n",
        "        self.model = None\n",
        "        self.scaler = StandardScaler()\n",
        "        self.window_size = 30\n",
        "        self.study_name = \"crush_game_study\"\n",
        "        self.model_path = \"best_model.keras\"\n",
        "        self.scaler_path = \"scaler.joblib\"\n",
        "        self.prediction_accuracy = deque(maxlen=10)\n",
        "        self.profit_history = []\n",
        "        self.load_data()\n",
        "        self.prepare_features()\n",
        "        print(f\"Total number of features: {len(self.feature_columns)}\")\n",
        "\n",
        "    def load_data(self):\n",
        "        self.train_data = pd.read_csv(self.train_csv_path, header=None, names=['crush_point'])\n",
        "        self.simulation_data = pd.read_csv(self.simulation_csv_path, header=None, names=['crush_point'])\n",
        "        print(f\"Loaded {len(self.train_data)} training data points from {self.train_csv_path}\")\n",
        "        print(f\"Loaded {len(self.simulation_data)} simulation data points from {self.simulation_csv_path}\")\n",
        "\n",
        "    def prepare_features(self):\n",
        "        for data in [self.train_data, self.simulation_data]:\n",
        "            for i in range(1, self.window_size + 1):\n",
        "                data[f'prev_{i}'] = data['crush_point'].shift(i)\n",
        "\n",
        "            data['rolling_mean'] = data['crush_point'].rolling(window=self.window_size).mean()\n",
        "            data['rolling_std'] = data['crush_point'].rolling(window=self.window_size).std()\n",
        "            data['ewm'] = data['crush_point'].ewm(span=self.window_size).mean()\n",
        "\n",
        "            data.dropna(inplace=True)\n",
        "            data.reset_index(drop=True, inplace=True)\n",
        "\n",
        "        self.feature_columns = [col for col in self.train_data.columns if col != 'crush_point']\n",
        "        print(f\"Number of features: {len(self.feature_columns)}\")\n",
        "\n",
        "    def prepare_data(self):\n",
        "        X = self.train_data[self.feature_columns].values\n",
        "        y = self.train_data['crush_point'].values\n",
        "\n",
        "        self.input_shape = X.shape[1]\n",
        "        X = self.scaler.fit_transform(X)\n",
        "        X = X.reshape((X.shape[0], 1, X.shape[1]))\n",
        "\n",
        "        print(f\"Input shape after preparation: {X.shape}\")\n",
        "        return train_test_split(X, y, test_size=0.2, random_state=42)\n",
        "\n",
        "    def build_model(self, params):\n",
        "        model = Sequential([\n",
        "            LSTM(params['lstm_units'], activation='relu', input_shape=(1, self.input_shape), return_sequences=True),\n",
        "            Dropout(params['dropout_1']),\n",
        "            LSTM(params['lstm_units_2'], activation='relu'),\n",
        "            Dropout(params['dropout_2']),\n",
        "            Dense(params['dense_units'], activation='relu'),\n",
        "            Dense(1)\n",
        "        ])\n",
        "        model.compile(optimizer=Adam(learning_rate=params['learning_rate']),\n",
        "                      loss=tf.keras.losses.MeanSquaredError())\n",
        "        print(f\"Model input shape: {model.input_shape}\")\n",
        "        return model\n",
        "\n",
        "    def objective(self, trial):\n",
        "        params = {\n",
        "            'lstm_units': trial.suggest_int('lstm_units', 64, 256),\n",
        "            'dropout_1': trial.suggest_float('dropout_1', 0.0, 0.5),\n",
        "            'lstm_units_2': trial.suggest_int('lstm_units_2', 32, 128),\n",
        "            'dropout_2': trial.suggest_float('dropout_2', 0.0, 0.5),\n",
        "            'dense_units': trial.suggest_int('dense_units', 16, 64),\n",
        "            'learning_rate': trial.suggest_float('learning_rate', 1e-4, 1e-2, log=True)\n",
        "        }\n",
        "\n",
        "        X_train, X_test, y_train, y_test = self.prepare_data()\n",
        "\n",
        "        model = self.build_model(params)\n",
        "        early_stopping = EarlyStopping(patience=15, restore_best_weights=True)\n",
        "\n",
        "        model.fit(X_train, y_train, epochs=150, batch_size=32,\n",
        "                  validation_split=0.2, callbacks=[early_stopping], verbose=0)\n",
        "\n",
        "        loss = model.evaluate(X_test, y_test, verbose=0)\n",
        "        return loss\n",
        "\n",
        "    def train_model(self, n_trials=15):\n",
        "        study = optuna.create_study(study_name=self.study_name, direction='minimize',\n",
        "                                    storage='sqlite:///optuna.db', load_if_exists=True)\n",
        "\n",
        "        if len(study.trials) > 0:\n",
        "            print(f\"Resuming study with {len(study.trials)} previous trials.\")\n",
        "        else:\n",
        "            print(\"Starting new study.\")\n",
        "\n",
        "        study.optimize(self.objective, n_trials=n_trials)\n",
        "\n",
        "        best_params = study.best_params\n",
        "        X_train, _, y_train, _ = self.prepare_data()\n",
        "\n",
        "        try:\n",
        "            if os.path.exists(self.model_path):\n",
        "                print(\"Loading best model from file.\")\n",
        "                self.model = tf.keras.models.load_model(self.model_path)\n",
        "            else:\n",
        "                print(\"Training new model with best parameters.\")\n",
        "                self.model = self.build_model(best_params)\n",
        "                self.model.fit(X_train, y_train, epochs=200, batch_size=32, verbose=0)\n",
        "                self.model.save(self.model_path)\n",
        "\n",
        "            joblib.dump(self.scaler, self.scaler_path)\n",
        "        except Exception as e:\n",
        "            print(f\"An error occurred while training or saving the model: {str(e)}\")\n",
        "\n",
        "    def load_or_train_model(self):\n",
        "        try:\n",
        "            if os.path.exists(self.model_path) and os.path.exists(self.scaler_path):\n",
        "                print(\"Loading existing model and scaler.\")\n",
        "                self.model = tf.keras.models.load_model(self.model_path)\n",
        "                self.scaler = joblib.load(self.scaler_path)\n",
        "            else:\n",
        "                print(\"No existing model found. Training new model.\")\n",
        "                self.train_model()\n",
        "        except Exception as e:\n",
        "            print(f\"An error occurred while loading the model: {str(e)}\")\n",
        "            print(\"Training a new model...\")\n",
        "            self.train_model()\n",
        "\n",
        "    def predict_next_crush_point(self, recent_data):\n",
        "        if recent_data.shape[0] != len(self.feature_columns):\n",
        "            raise ValueError(f\"Expected {len(self.feature_columns)} features, but got {recent_data.shape[0]}\")\n",
        "        input_data = self.scaler.transform(recent_data.reshape(1, -1))\n",
        "        input_data = input_data.reshape(1, 1, -1)\n",
        "        return round(float(self.model.predict(input_data, verbose=0)[0][0]), 2)\n",
        "\n",
        "    def kelly_criterion(self, win_prob, odds):\n",
        "        q = 1 - win_prob\n",
        "        return (win_prob * odds - q) / odds\n",
        "\n",
        "    def prepare_simulation_data(self):\n",
        "        X = self.simulation_data[self.feature_columns].values\n",
        "        y = self.simulation_data['crush_point'].values\n",
        "\n",
        "        X = self.scaler.transform(X)\n",
        "        X = X.reshape((X.shape[0], 1, X.shape[1]))\n",
        "\n",
        "        return X, y\n",
        "\n",
        "    def simulate_betting(self):\n",
        "        balance = self.initial_balance\n",
        "        bets_placed = 0\n",
        "        correct_predictions = 0\n",
        "        consecutive_losses = 0\n",
        "        max_consecutive_losses = 0\n",
        "\n",
        "        X_test, y_test = self.prepare_simulation_data()\n",
        "\n",
        "        with open('bet_log.csv', 'w', newline='') as csvfile:\n",
        "            csvwriter = csv.writer(csvfile)\n",
        "            csvwriter.writerow(['Bet', 'Predicted', 'Actual', 'Confidence', 'Bet Amount', 'Result', 'Balance', 'Profit'])\n",
        "\n",
        "        for i in range(len(X_test)):\n",
        "            actual_next_point = round(float(y_test[i]), 2)\n",
        "            predicted_next_point = self.predict_next_crush_point(X_test[i].reshape(-1))\n",
        "\n",
        "            win_prob = 0.5 + (actual_next_point - predicted_next_point) / (2 * self.simulation_data['crush_point'].std())\n",
        "            win_prob = max(0, min(1, win_prob))\n",
        "            odds = actual_next_point\n",
        "\n",
        "            confidence = round(abs(1 - (predicted_next_point / actual_next_point)), 2)\n",
        "\n",
        "            if predicted_next_point < self.min_prediction_value or confidence < self.confidence_threshold:\n",
        "                with open('bet_log.csv', 'a', newline='') as csvfile:\n",
        "                    csvwriter = csv.writer(csvfile)\n",
        "                    csvwriter.writerow([bets_placed + 1, predicted_next_point, actual_next_point, f\"{confidence:.2f}\", \"No bet\", \"No bet\", balance, 0])\n",
        "                continue\n",
        "\n",
        "            kelly_fraction = self.kelly_criterion(win_prob, odds)\n",
        "            optimal_bet = kelly_fraction * balance\n",
        "            bet_amount = round(max(self.min_bet_amount, min(optimal_bet, self.max_bet_amount, balance)), 2)\n",
        "\n",
        "            if predicted_next_point <= actual_next_point:\n",
        "                gain = round(bet_amount * (predicted_next_point -1), 2)\n",
        "                balance = round(balance + gain, 2)\n",
        "                correct_predictions += 1\n",
        "                result = 'Win'\n",
        "                consecutive_losses = 0\n",
        "                profit = gain\n",
        "            else:\n",
        "                balance = round(balance - bet_amount, 2)\n",
        "                result = 'Loss'\n",
        "                consecutive_losses += 1\n",
        "                max_consecutive_losses = max(max_consecutive_losses, consecutive_losses)\n",
        "                profit = -bet_amount\n",
        "\n",
        "            bets_placed += 1\n",
        "            self.prediction_accuracy.append(1 if predicted_next_point <= actual_next_point else 0)\n",
        "            self.profit_history.append(round(balance - self.initial_balance, 2))\n",
        "\n",
        "            with open('bet_log.csv', 'a', newline='') as csvfile:\n",
        "                csvwriter = csv.writer(csvfile)\n",
        "                csvwriter.writerow([bets_placed, predicted_next_point, actual_next_point, f\"{confidence:.2f}\", bet_amount, result, balance, profit])\n",
        "\n",
        "            if balance >= self.initial_balance + self.profit_target:\n",
        "                print(f\"Profit target reached after {bets_placed} bets!\")\n",
        "                break\n",
        "            elif balance <= self.initial_balance - self.loss_limit:\n",
        "                print(f\"Loss limit reached after {bets_placed} bets.\")\n",
        "                break\n",
        "\n",
        "        return balance, bets_placed, correct_predictions, max_consecutive_losses\n",
        "\n",
        "    def plot_profit_history(self):\n",
        "        plt.figure(figsize=(12, 6))\n",
        "        plt.plot(self.profit_history)\n",
        "        plt.title('Profit Over Time')\n",
        "        plt.xlabel('Number of Bets')\n",
        "        plt.ylabel('Profit/Loss')\n",
        "        plt.grid(True)\n",
        "        plt.savefig('profit_history.png')\n",
        "        plt.close()\n",
        "\n",
        "    def run(self):\n",
        "        self.load_or_train_model()\n",
        "        final_balance, bets_placed, correct_predictions, max_consecutive_losses = self.simulate_betting()\n",
        "        profit_loss = round(final_balance - self.initial_balance, 2)\n",
        "        accuracy = correct_predictions / bets_placed if bets_placed > 0 else 0\n",
        "        recent_accuracy = sum(self.prediction_accuracy) / len(self.prediction_accuracy) if self.prediction_accuracy else 0\n",
        "\n",
        "        print(f\"Final balance: ${final_balance:.2f}\")\n",
        "        print(f\"Profit/Loss: ${profit_loss:.2f}\")\n",
        "        print(f\"Total bets placed: {bets_placed}\")\n",
        "        print(f\"Overall accuracy: {accuracy:.2%}\")\n",
        "        print(f\"Recent accuracy (last 10 predictions): {recent_accuracy:.2%}\")\n",
        "        print(f\"Maximum consecutive losses: {max_consecutive_losses}\")\n",
        "        print(f\"Profit per bet: ${profit_loss / bets_placed:.2f}\" if bets_placed > 0 else \"No bets placed\")\n",
        "\n",
        "        self.plot_profit_history()\n",
        "\n",
        "if __name__ == \"__main__\":\n",
        "    train_csv_path = '/content/crush_data.csv'\n",
        "    simulation_csv_path = '/content/new_values.csv'\n",
        "    bot = CSVCrushGameBettingBot(train_csv_path, simulation_csv_path)\n",
        "    bot.run()"
      ]
    }
  ],
  "metadata": {
    "colab": {
      "provenance": [],
      "gpuType": "T4",
      "authorship_tag": "ABX9TyPl4AaY6QOzhqycxHZ1JuOI",
      "include_colab_link": true
    },
    "kernelspec": {
      "display_name": "Python 3",
      "name": "python3"
    },
    "language_info": {
      "name": "python"
    },
    "accelerator": "GPU"
  },
  "nbformat": 4,
  "nbformat_minor": 0
}